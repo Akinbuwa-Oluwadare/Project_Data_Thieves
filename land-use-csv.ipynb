{
 "cells": [
  {
   "cell_type": "code",
   "execution_count": null,
   "metadata": {},
   "outputs": [],
   "source": [
    "import pandas as pd\n",
    "import requests\n",
    "import json\n",
    "import getpass"
   ]
  },
  {
   "cell_type": "code",
   "execution_count": null,
   "metadata": {
    "scrolled": true
   },
   "outputs": [],
   "source": [
    "#Import country_codes CSV file that contains all the country codes from WeatherBit\n",
    "country_codes_OECD = pd.read_csv('country_codes_OECD.csv', engine='python')"
   ]
  },
  {
   "cell_type": "code",
   "execution_count": null,
   "metadata": {},
   "outputs": [],
   "source": [
    "country_codes_OECD.head()"
   ]
  },
  {
   "cell_type": "code",
   "execution_count": null,
   "metadata": {},
   "outputs": [],
   "source": [
    "#Remove whitespaces from column names\n",
    "country_codes_OECD.columns = country_codes_OECD.columns.str.replace(' ','')"
   ]
  },
  {
   "cell_type": "code",
   "execution_count": null,
   "metadata": {},
   "outputs": [],
   "source": [
    "#Look at shape of the dataframe\n",
    "country_codes_OECD.shape"
   ]
  },
  {
   "cell_type": "code",
   "execution_count": null,
   "metadata": {},
   "outputs": [],
   "source": [
    "#Investigate null values\n",
    "country_codes_OECD.isna().sum()"
   ]
  },
  {
   "cell_type": "code",
   "execution_count": null,
   "metadata": {},
   "outputs": [],
   "source": [
    "#Column 'Unnamed:2' can be dropped\n",
    "country_codes_OECD = country_codes_OECD.drop(['Unnamed:2'], axis=1)"
   ]
  },
  {
   "cell_type": "code",
   "execution_count": null,
   "metadata": {},
   "outputs": [],
   "source": [
    "#Investigate the solitary non-null value in 'Unnamed:3' column\n",
    "country_codes_OECD.groupby(by=[\"Unnamed:3\"]).sum()"
   ]
  },
  {
   "cell_type": "code",
   "execution_count": null,
   "metadata": {},
   "outputs": [],
   "source": [
    "#Column 'Unnamed:3' can be dropped\n",
    "country_codes_OECD = country_codes_OECD.drop(['Unnamed:3'], axis=1)"
   ]
  },
  {
   "cell_type": "code",
   "execution_count": null,
   "metadata": {},
   "outputs": [],
   "source": [
    "country_codes_OECD['code']"
   ]
  },
  {
   "cell_type": "code",
   "execution_count": null,
   "metadata": {},
   "outputs": [],
   "source": [
    "code_list = country_codes_OECD['code'].tolist()\n",
    "print(code_list)"
   ]
  },
  {
   "cell_type": "code",
   "execution_count": null,
   "metadata": {},
   "outputs": [],
   "source": [
    "for code in code_list:\n",
    "    if len(code) > 3:\n",
    "        print(code)"
   ]
  },
  {
   "cell_type": "code",
   "execution_count": null,
   "metadata": {},
   "outputs": [],
   "source": [
    "#Codes that are exactly 4 characters long are continents or former countries, so they can be dropped\n",
    "four_codes = country_codes_OECD.loc[country_codes_OECD['code'].str.len() == 4].index\n",
    "country_codes_OECD = country_codes_OECD.drop(four_codes)\n",
    "#'KOREA-SO' can be deleted\n",
    "row_drop = country_codes_OECD.loc[country_codes_OECD['code'] == 'KOREA-SO'].index\n",
    "country_codes_OECD = country_codes_OECD.drop(row_drop)\n",
    "#'KOREA-NO' can be changed to 'PRK'\n",
    "#'KOREA-NS' can be changed to 'KOR'                                                              \n",
    "country_codes_OECD = country_codes_OECD.replace(to_replace={'KOREA-NO': 'PRK', 'KOREA-NS': 'KOR'})\n",
    "#Reset index\n",
    "country_codes_OECD.reset_index(drop=True, inplace=True)"
   ]
  },
  {
   "cell_type": "code",
   "execution_count": null,
   "metadata": {},
   "outputs": [],
   "source": [
    "#All remaining country codes can have their prefix removed\n",
    "prefix_codes = country_codes_OECD.loc[country_codes_OECD['code'].str.len() == 8].index\n",
    "prefix_codes"
   ]
  },
  {
   "cell_type": "code",
   "execution_count": null,
   "metadata": {},
   "outputs": [],
   "source": [
    "country_codes_OECD[\"code\"].iloc[prefix_codes] = country_codes_OECD[\"code\"].iloc[prefix_codes].str.slice(start=5)"
   ]
  },
  {
   "cell_type": "code",
   "execution_count": null,
   "metadata": {},
   "outputs": [],
   "source": [
    "country_codes_OECD[\"code\"].tolist()"
   ]
  },
  {
   "cell_type": "code",
   "execution_count": null,
   "metadata": {},
   "outputs": [],
   "source": [
    "#Export data to CSV file\n",
    "country_codes_OECD = country_codes_OECD.to_csv('country_codes_final.csv', index=False)"
   ]
  },
  {
   "cell_type": "code",
   "execution_count": null,
   "metadata": {},
   "outputs": [],
   "source": [
    "#Import and clean 'protected_areas' CSV file"
   ]
  },
  {
   "cell_type": "code",
   "execution_count": null,
   "metadata": {},
   "outputs": [],
   "source": [
    "protected_areas = pd.read_csv('protected_areas.csv')"
   ]
  },
  {
   "cell_type": "code",
   "execution_count": null,
   "metadata": {},
   "outputs": [],
   "source": [
    "protected_areas.head()"
   ]
  },
  {
   "cell_type": "code",
   "execution_count": null,
   "metadata": {},
   "outputs": [],
   "source": [
    "#Investigate null values\n",
    "protected_areas.isna().sum()"
   ]
  },
  {
   "cell_type": "code",
   "execution_count": null,
   "metadata": {},
   "outputs": [],
   "source": [
    "#Delete 'Flag Codes' column\n",
    "protected_areas.drop('Flag Codes', axis=1, inplace=True)"
   ]
  },
  {
   "cell_type": "code",
   "execution_count": null,
   "metadata": {},
   "outputs": [],
   "source": [
    "#Check for columns that have only one unique value, and drop columns that do\n",
    "for col in protected_areas.columns:\n",
    "    if len(protected_areas[col].unique()) == 1:\n",
    "        protected_areas.drop(col, axis=1, inplace=True)"
   ]
  },
  {
   "cell_type": "code",
   "execution_count": null,
   "metadata": {},
   "outputs": [],
   "source": [
    "protected_areas"
   ]
  },
  {
   "cell_type": "code",
   "execution_count": null,
   "metadata": {},
   "outputs": [],
   "source": [
    "#Use pivot function to create new columns for each year in the dataframe\n",
    "protected_areas = protected_areas.pivot(index='LOCATION', columns='TIME')\n",
    "protected_areas.head()"
   ]
  },
  {
   "cell_type": "code",
   "execution_count": null,
   "metadata": {},
   "outputs": [],
   "source": [
    "#Reintroduce index, moving country codes into the dataframe\n",
    "protected_areas.reset_index(inplace=True)"
   ]
  },
  {
   "cell_type": "code",
   "execution_count": null,
   "metadata": {},
   "outputs": [],
   "source": [
    "protected_areas.head()"
   ]
  },
  {
   "cell_type": "code",
   "execution_count": null,
   "metadata": {},
   "outputs": [],
   "source": [
    "protected_areas.columns"
   ]
  },
  {
   "cell_type": "code",
   "execution_count": null,
   "metadata": {},
   "outputs": [],
   "source": [
    "#Remove multiindex\n",
    "[x for x in protected_areas.columns]"
   ]
  },
  {
   "cell_type": "code",
   "execution_count": null,
   "metadata": {},
   "outputs": [],
   "source": [
    "[x[1] for x in protected_areas.columns]"
   ]
  },
  {
   "cell_type": "code",
   "execution_count": null,
   "metadata": {},
   "outputs": [],
   "source": [
    "protected_areas.columns = [x[1] for x in protected_areas.columns]"
   ]
  },
  {
   "cell_type": "code",
   "execution_count": null,
   "metadata": {},
   "outputs": [],
   "source": [
    "#Rename column containing country codes\n",
    "protected_areas.rename(columns={ protected_areas.columns[0]: \"country_code\" }, inplace = True)"
   ]
  },
  {
   "cell_type": "code",
   "execution_count": null,
   "metadata": {},
   "outputs": [],
   "source": [
    "protected_areas.head()"
   ]
  },
  {
   "cell_type": "code",
   "execution_count": null,
   "metadata": {},
   "outputs": [],
   "source": [
    "protected_areas = protected_areas.to_csv('protected_areas.csv', index=False)"
   ]
  },
  {
   "cell_type": "code",
   "execution_count": null,
   "metadata": {},
   "outputs": [],
   "source": []
  }
 ],
 "metadata": {
  "kernelspec": {
   "display_name": "Python 3",
   "language": "python",
   "name": "python3"
  },
  "language_info": {
   "codemirror_mode": {
    "name": "ipython",
    "version": 3
   },
   "file_extension": ".py",
   "mimetype": "text/x-python",
   "name": "python",
   "nbconvert_exporter": "python",
   "pygments_lexer": "ipython3",
   "version": "3.7.1"
  }
 },
 "nbformat": 4,
 "nbformat_minor": 4
}
